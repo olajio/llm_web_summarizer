{
 "cells": [
  {
   "cell_type": "markdown",
   "id": "0140a4b9",
   "metadata": {},
   "source": [
    "# Website Summarizer with AI\n",
    "\n",
    "This notebook fetches website content and generates intelligent summaries using AI models.\n",
    "\n",
    "Supports multiple AI providers: Ollama (local), OpenAI, Google Gemini, Claude, and more."
   ]
  },
  {
   "cell_type": "code",
   "execution_count": null,
   "id": "4fc8a32a",
   "metadata": {
    "vscode": {
     "languageId": "plaintext"
    }
   },
   "outputs": [],
   "source": [
    "# Imports\n",
    "import os\n",
    "from dotenv import load_dotenv\n",
    "from scraper import fetch_website_contents\n",
    "from IPython.display import Markdown, display\n",
    "from openai import OpenAI\n",
    "\n",
    "# Load environment variables\n",
    "load_dotenv()"
   ]
  },
  {
   "cell_type": "markdown",
   "id": "239b0b0d",
   "metadata": {},
   "source": [
    "## AI Provider Configuration\n",
    "\n",
    "Configure your preferred AI provider below. Uncomment the section you want to use."
   ]
  },
  {
   "cell_type": "code",
   "execution_count": null,
   "id": "053d1ab4",
   "metadata": {
    "vscode": {
     "languageId": "plaintext"
    }
   },
   "outputs": [],
   "source": [
    "# OPTION 1: OLLAMA (Local AI - Default)\n",
    "OLLAMA_BASE_URL = \"http://localhost:11434/v1\"\n",
    "ollama_api_key = \"ollama\"\n",
    "ollama = OpenAI(base_url=OLLAMA_BASE_URL, api_key=ollama_api_key)\n",
    "client = ollama\n",
    "MODEL_NAME = \"llama3.2\"\n",
    "\n",
    "print(\"✓ Using Ollama with model:\", MODEL_NAME)"
   ]
  },
  {
   "cell_type": "code",
   "execution_count": null,
   "id": "fb1eaee0",
   "metadata": {
    "vscode": {
     "languageId": "plaintext"
    }
   },
   "outputs": [],
   "source": [
    "# OPTION 2: GOOGLE GEMINI\n",
    "# GEMINI_BASE_URL = \"https://generativelanguage.googleapis.com/v1beta/openai/\"\n",
    "# google_api_key = os.getenv(\"GOOGLE_API_KEY\")\n",
    "# gemini = OpenAI(base_url=GEMINI_BASE_URL, api_key=google_api_key)\n",
    "# client = gemini\n",
    "# MODEL_NAME = \"gemini-1.5-flash\"\n",
    "\n",
    "# OPTION 3: OPENAI\n",
    "# openai_api_key = os.getenv(\"OPENAI_API_KEY\")\n",
    "# openai_client = OpenAI(api_key=openai_api_key)\n",
    "# client = openai_client\n",
    "# MODEL_NAME = \"gpt-4o-mini\""
   ]
  },
  {
   "cell_type": "code",
   "execution_count": null,
   "id": "77307076",
   "metadata": {
    "vscode": {
     "languageId": "plaintext"
    }
   },
   "outputs": [],
   "source": [
    "# System and user prompts\n",
    "system_prompt = \"\"\"\n",
    "You are a office assistant that analyzes the contents of a website,\n",
    "and provides a short, accurate summary, ignoring text that might be navigation related.\n",
    "Respond in markdown. Do not wrap the markdown in a code block - respond just with the markdown.\n",
    "\"\"\"\n",
    "\n",
    "user_prompt_prefix = \"\"\"\n",
    "Here are the contents of a website.\n",
    "Provide a short summary of this website.\n",
    "If it includes news or announcements, then summarize these too.\n",
    "\"\"\""
   ]
  },
  {
   "cell_type": "code",
   "execution_count": null,
   "id": "ac0aa101",
   "metadata": {
    "vscode": {
     "languageId": "plaintext"
    }
   },
   "outputs": [],
   "source": [
    "# Constructs message array for AI API with system and user prompts\n",
    "def messages_for(url_content):\n",
    "    return [\n",
    "        {\"role\": \"system\", \"content\": system_prompt},\n",
    "        {\"role\": \"user\", \"content\": user_prompt_prefix + url_content}\n",
    "    ]\n",
    "\n",
    "# Fetches website content and generates AI-powered summary\n",
    "def summarize(url):\n",
    "    url_content = fetch_website_contents(url)\n",
    "    response = client.chat.completions.create(\n",
    "        model=MODEL_NAME,\n",
    "        messages=messages_for(url_content)\n",
    "    )\n",
    "    return response.choices[0].message.content\n",
    "\n",
    "# Generates and displays website summary in formatted Markdown\n",
    "def display_summary(url):\n",
    "    summary = summarize(url)\n",
    "    display(Markdown(summary))\n",
    "\n",
    "print(\"✓ Functions loaded successfully\")"
   ]
  },
  {
   "cell_type": "markdown",
   "id": "b41d0d69",
   "metadata": {},
   "source": [
    "## Usage\n",
    "\n",
    "Run the cell below and enter a website URL when prompted."
   ]
  },
  {
   "cell_type": "code",
   "execution_count": null,
   "id": "a2d5aba2",
   "metadata": {
    "vscode": {
     "languageId": "plaintext"
    }
   },
   "outputs": [],
   "source": [
    "# Get URL input from user\n",
    "url = input(\"Enter url or website address (e.g., cnn.com): \")\n",
    "\n",
    "# Add https:// prefix if not already present\n",
    "if not url.startswith(('http://', 'https://')):\n",
    "    url = f\"https://{url}\"\n",
    "\n",
    "# Display confirmation\n",
    "print(f\"\\n✓ Fetching: {url}\\n\")\n",
    "\n",
    "# Generate and display the summary\n",
    "display_summary(url)"
   ]
  }
 ],
 "metadata": {
  "language_info": {
   "name": "python"
  }
 },
 "nbformat": 4,
 "nbformat_minor": 5
}
