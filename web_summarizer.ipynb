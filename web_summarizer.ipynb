{
 "cells": [
  {
   "cell_type": "markdown",
   "id": "0140a4b9",
   "metadata": {},
   "source": [
    "# Website Summarizer with AI\n",
    "\n",
    "This notebook fetches website content and generates intelligent summaries using AI models.\n",
    "\n",
    "Supports multiple AI providers: Ollama (local), OpenAI, Google Gemini, Claude, and more."
   ]
  },
  {
   "cell_type": "code",
   "execution_count": 6,
   "id": "4fc8a32a",
   "metadata": {},
   "outputs": [
    {
     "data": {
      "text/plain": [
       "True"
      ]
     },
     "execution_count": 6,
     "metadata": {},
     "output_type": "execute_result"
    }
   ],
   "source": [
    "# Imports\n",
    "import os\n",
    "from dotenv import load_dotenv\n",
    "from scraper import fetch_website_contents\n",
    "from IPython.display import Markdown, display\n",
    "from openai import OpenAI\n",
    "\n",
    "# Load environment variables\n",
    "load_dotenv()"
   ]
  },
  {
   "cell_type": "markdown",
   "id": "239b0b0d",
   "metadata": {},
   "source": [
    "## AI Provider Configuration\n",
    "\n",
    "Configure your preferred AI provider below. Uncomment the section you want to use."
   ]
  },
  {
   "cell_type": "code",
   "execution_count": 8,
   "id": "053d1ab4",
   "metadata": {},
   "outputs": [
    {
     "name": "stdout",
     "output_type": "stream",
     "text": [
      "✓ Using Ollama with model: llama3.2\n"
     ]
    }
   ],
   "source": [
    "# OPTION 1: OLLAMA (Local AI - Default)\n",
    "OLLAMA_BASE_URL = \"http://localhost:11434/v1\"\n",
    "ollama_api_key = \"ollama\"\n",
    "ollama = OpenAI(base_url=OLLAMA_BASE_URL, api_key=ollama_api_key)\n",
    "client = ollama\n",
    "MODEL_NAME = \"llama3.2\"\n",
    "\n",
    "print(\"✓ Using Ollama with model:\", MODEL_NAME)"
   ]
  },
  {
   "cell_type": "code",
   "execution_count": null,
   "id": "fb1eaee0",
   "metadata": {},
   "outputs": [],
   "source": [
    "# OPTION 2: GOOGLE GEMINI\n",
    "# GEMINI_BASE_URL = \"https://generativelanguage.googleapis.com/v1beta/openai/\"\n",
    "# google_api_key = os.getenv(\"GOOGLE_API_KEY\")\n",
    "# gemini = OpenAI(base_url=GEMINI_BASE_URL, api_key=google_api_key)\n",
    "# client = gemini\n",
    "# MODEL_NAME = \"gemini-1.5-flash\"\n",
    "\n",
    "# OPTION 3: OPENAI\n",
    "# openai_api_key = os.getenv(\"OPENAI_API_KEY\")\n",
    "# openai_client = OpenAI(api_key=openai_api_key)\n",
    "# client = openai_client\n",
    "# MODEL_NAME = \"gpt-4o-mini\""
   ]
  },
  {
   "cell_type": "code",
   "execution_count": 9,
   "id": "77307076",
   "metadata": {},
   "outputs": [],
   "source": [
    "# System and user prompts\n",
    "system_prompt = \"\"\"\n",
    "You are a office assistant that analyzes the contents of a website,\n",
    "and provides a short, accurate summary, ignoring text that might be navigation related.\n",
    "Respond in markdown. Do not wrap the markdown in a code block - respond just with the markdown.\n",
    "\"\"\"\n",
    "\n",
    "user_prompt_prefix = \"\"\"\n",
    "Here are the contents of a website.\n",
    "Provide a short summary of this website.\n",
    "If it includes news or announcements, then summarize these too.\n",
    "\"\"\""
   ]
  },
  {
   "cell_type": "code",
   "execution_count": 14,
   "id": "ac0aa101",
   "metadata": {},
   "outputs": [
    {
     "name": "stdout",
     "output_type": "stream",
     "text": [
      "✓ Functions loaded successfully\n"
     ]
    }
   ],
   "source": [
    "# Constructs message array for AI API with system and user prompts\n",
    "def messages_for(url_content):\n",
    "    return [\n",
    "        {\"role\": \"system\", \"content\": system_prompt},\n",
    "        {\"role\": \"user\", \"content\": user_prompt_prefix + url_content}\n",
    "    ]\n",
    "\n",
    "# Fetches website content and generates AI-powered summary\n",
    "def summarize(url, client):\n",
    "    url_content = fetch_website_contents(url)\n",
    "    response = client.chat.completions.create(\n",
    "        model=MODEL_NAME,\n",
    "        messages=messages_for(url_content)\n",
    "    )\n",
    "    return response.choices[0].message.content\n",
    "\n",
    "# Generates and displays website summary in formatted Markdown\n",
    "def display_summary(url):\n",
    "    summary = summarize(url, client)\n",
    "    display(Markdown(summary))\n",
    "\n",
    "print(\"✓ Functions loaded successfully\")"
   ]
  },
  {
   "cell_type": "markdown",
   "id": "b41d0d69",
   "metadata": {},
   "source": [
    "## Usage\n",
    "\n",
    "Run the cell below and enter a website URL when prompted."
   ]
  },
  {
   "cell_type": "code",
   "execution_count": 15,
   "id": "a2d5aba2",
   "metadata": {},
   "outputs": [
    {
     "name": "stdout",
     "output_type": "stream",
     "text": [
      "\n",
      "✓ Fetching: https://elastic.co\n",
      "\n"
     ]
    },
    {
     "data": {
      "text/markdown": [
       "**Elastic is a leading provider of search and observability solutions**\n",
       "\n",
       "Elastic offers an open-source platform for search, security, and observability applications. The company recently ranked as a leader in the 2025 Gartner Magic Quadrant for Observability Platforms for the second year.\n",
       "\n",
       "**Key Features**\n",
       "\n",
       "* Generative AI search capabilities\n",
       "* Powerful machine learning enabled search applications\n",
       "* Modernized security analytics using AI-driven SecOps\n",
       "* Unified observability powered by advanced ML and analytics\n",
       "* Cloud-native services for Search AI Lake with boundless storage and low-latency search\n",
       "\n",
       "**Announcements and News**\n",
       "\n",
       "Elastic recently rebranded its management platform, AutoOps, as a free offering for Elastic Cloud customers. Additionally, the company is trusted by 50% of the Fortune 500 companies to drive innovation.\n",
       "\n",
       "**Key Benefits**\n",
       "\n",
       "* Accelerate business outcomes with the combination of powerful search and generative AI\n",
       "* Effortless Elasticsearch management with AutoOps (free for Elastic Cloud customers)\n",
       "* Modernized security analytics to detect, investigate, and respond before threats have a chance."
      ],
      "text/plain": [
       "<IPython.core.display.Markdown object>"
      ]
     },
     "metadata": {},
     "output_type": "display_data"
    }
   ],
   "source": [
    "# Get URL input from user\n",
    "url = input(\"Enter url or website address (e.g., cnn.com): \")\n",
    "\n",
    "# Add https:// prefix if not already present\n",
    "if not url.startswith(('http://', 'https://')):\n",
    "    url = f\"https://{url}\"\n",
    "\n",
    "# Display confirmation\n",
    "print(f\"\\n✓ Fetching: {url}\\n\")\n",
    "\n",
    "# Generate and display the summary\n",
    "display_summary(url)"
   ]
  },
  {
   "cell_type": "code",
   "execution_count": null,
   "id": "d1a3fb21",
   "metadata": {},
   "outputs": [],
   "source": []
  }
 ],
 "metadata": {
  "kernelspec": {
   "display_name": ".venv",
   "language": "python",
   "name": "python3"
  },
  "language_info": {
   "codemirror_mode": {
    "name": "ipython",
    "version": 3
   },
   "file_extension": ".py",
   "mimetype": "text/x-python",
   "name": "python",
   "nbconvert_exporter": "python",
   "pygments_lexer": "ipython3",
   "version": "3.12.4"
  }
 },
 "nbformat": 4,
 "nbformat_minor": 5
}
